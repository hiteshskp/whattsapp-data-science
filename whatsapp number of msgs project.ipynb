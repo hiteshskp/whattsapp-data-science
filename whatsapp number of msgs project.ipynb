{
 "cells": [
  {
   "cell_type": "markdown",
   "metadata": {},
   "source": [
    "THIS PROJEXT IS DEDICATED TO MY MOM\n",
    "\n",
    "IDEA OF THE PROJECT IS TO MAKE ONLINE LEARNING EASY AS IF THE MSG'S ARE COMING TO A GRP NOW WE CAN EVALUTE THE MSG FREQ\n",
    "AND MARK ATTENDANCE OF THE STUDENTS\n",
    "\n",
    "MRIDUL KAPOOR(NANU OP) IS CONTRIBUTOR TO THE PROJECT\n",
    "\n",
    "REQUIRED DATA FOR THE PROJECT IS \n",
    "# ~WHATSAPP EXPORT CHAT in the form of .txt file\n"
   ]
  },
  {
   "cell_type": "code",
   "execution_count": 2,
   "metadata": {},
   "outputs": [],
   "source": [
    "# References\n",
    "# https://towardsdatascience.com/build-your-own-whatsapp-chat-analyzer-9590acca9014"
   ]
  },
  {
   "cell_type": "code",
   "execution_count": 3,
   "metadata": {},
   "outputs": [],
   "source": [
    "# libraries needed for the project\n",
    "\n",
    "import numpy as np\n",
    "import pandas as pd\n",
    "import matplotlib.pyplot as plt\n",
    "import re"
   ]
  },
  {
   "cell_type": "code",
   "execution_count": 23,
   "metadata": {},
   "outputs": [],
   "source": [
    "# Now we are going to use tokens to give the analyses of what the data the data stores\n",
    "# {Date}, {Time} - {Author}: {Message}\n",
    "# {31/05/2020}, {1:19 pm} - {Hitesh}: {🆗}"
   ]
  },
  {
   "cell_type": "code",
   "execution_count": 24,
   "metadata": {},
   "outputs": [],
   "source": [
    "# Data Preperation\n",
    "\n",
    "\n",
    "# Detecting the {Date} token and {Time} tokens\n",
    "\n",
    "def startsWithDateTime(s):\n",
    "    pattern = '^([0-2][0-9]|(3)[0-1])(\\/)(((0)[0-9])|((1)[0-2]))(\\/)(\\d{2}|\\d{4}), ([0-9][0-9]):([0-9][0-9]) -'\n",
    "    result = re.match(pattern, s)\n",
    "    if result:\n",
    "        return True\n",
    "    return False"
   ]
  },
  {
   "cell_type": "code",
   "execution_count": 25,
   "metadata": {},
   "outputs": [],
   "source": [
    "# Detecting the {Author} token\n",
    "\n",
    "def startsWithAuthor(s):\n",
    "    patterns = [\n",
    "        '([\\w]+):',                        # First Name\n",
    "        '([\\w]+[\\s]+[\\w]+):',              # First Name + Last Name\n",
    "        '([\\w]+[\\s]+[\\w]+[\\s]+[\\w]+):',    # First Name + Middle Name + Last Name\n",
    "        '([+]\\d{2} \\d{5} \\d{5}):',         # Mobile Number (India)\n",
    "        '([+]\\d{2} \\d{3} \\d{3} \\d{4}):',   # Mobile Number (US)\n",
    "        '([+]\\d{2} \\d{4} \\d{7})'           # Mobile Number (Europe)\n",
    "    ]\n",
    "    pattern = '^' + '|'.join(patterns)\n",
    "    result = re.match(pattern, s)\n",
    "    if result:\n",
    "        return True\n",
    "    return False"
   ]
  },
  {
   "cell_type": "code",
   "execution_count": 26,
   "metadata": {},
   "outputs": [],
   "source": [
    "# Extracting and Combining tokens\n",
    "\n",
    "def getDataPoint(line):\n",
    "    # line = 31/05/2020, 1:19 pm - Hitesh: 🆗\n",
    "    \n",
    "    splitLine = line.split(' - ') # splitLine = ['31/05/2020, 1:19 pm - Hitesh: 🆗']\n",
    "    \n",
    "    dateTime = splitLine[0] # dateTime = '31/05/2020, 1:19 pm'\n",
    "    \n",
    "    date, time = dateTime.split(', ') # date = '31/05/2020'; time = '1:19 pm'\n",
    "    \n",
    "    message = ' '.join(splitLine[1:]) # message = 'Hitesh: 🆗'\n",
    "    \n",
    "    if startsWithAuthor(message): # True\n",
    "        splitMessage = message.split(': ') # splitMessage = ['Hitesh': '🆗']\n",
    "        author = splitMessage[0] # author = 'Hitesh'\n",
    "        message = ' '.join(splitMessage[1:]) # message = '🆗'\n",
    "    else:\n",
    "        author = None\n",
    "    return date, time, author, message"
   ]
  },
  {
   "cell_type": "code",
   "execution_count": 32,
   "metadata": {},
   "outputs": [],
   "source": [
    "parsedData = [] # List to keep track of data so it can be used by a Pandas dataframe\n",
    "conversationPath = \"C:/Users/Lenovo/WhatsApp Chat with BTECH CE 5-6.txt\"\n",
    "with open(conversationPath, encoding=\"utf-8\") as fp:\n",
    "  \n",
    "        \n",
    "    messageBuffer = [] # Buffer to capture intermediate output for multi-line messages\n",
    "    date, time, author = None, None, None # Intermediate variables to keep track of the current message being processed\n",
    "    \n",
    "    while True:\n",
    "        line = fp.readline() \n",
    "        if not line: # Stop reading further if end of file has been reached\n",
    "            break\n",
    "        line = line.strip() # Guarding against erroneous leading and trailing whitespaces\n",
    "        if startsWithDateTime(line): # If a line starts with a Date Time pattern, then this indicates the beginning of a new message\n",
    "            if len(messageBuffer) > 0: # Check if the message buffer contains characters from previous iterations\n",
    "                parsedData.append([date, time, author, ' '.join(messageBuffer)]) # Save the tokens from the previous message in parsedData\n",
    "            messageBuffer.clear() # Clear the message buffer so that it can be used for the next message\n",
    "            date, time, author, message = getDataPoint(line) # Identify and extract tokens from the line\n",
    "            messageBuffer.append(message) # Append message to buffer\n",
    "        else:\n",
    "            messageBuffer.append(line) # If a line doesn't start with a Date Time pattern, then it is part of a multi-line message. So, just append to buffer\n"
   ]
  },
  {
   "cell_type": "code",
   "execution_count": 33,
   "metadata": {},
   "outputs": [],
   "source": [
    "df = pd.DataFrame(parsedData, columns=['Date', 'Time', 'Author', 'Message'])\n",
    "df.to_csv(\"Tets.csv\")"
   ]
  },
  {
   "cell_type": "code",
   "execution_count": 39,
   "metadata": {},
   "outputs": [
    {
     "data": {
      "text/html": [
       "<div>\n",
       "<style scoped>\n",
       "    .dataframe tbody tr th:only-of-type {\n",
       "        vertical-align: middle;\n",
       "    }\n",
       "\n",
       "    .dataframe tbody tr th {\n",
       "        vertical-align: top;\n",
       "    }\n",
       "\n",
       "    .dataframe thead th {\n",
       "        text-align: right;\n",
       "    }\n",
       "</style>\n",
       "<table border=\"1\" class=\"dataframe\">\n",
       "  <thead>\n",
       "    <tr style=\"text-align: right;\">\n",
       "      <th></th>\n",
       "      <th>Date</th>\n",
       "      <th>Time</th>\n",
       "      <th>Author</th>\n",
       "      <th>Message</th>\n",
       "    </tr>\n",
       "  </thead>\n",
       "  <tbody>\n",
       "    <tr>\n",
       "      <th>0</th>\n",
       "      <td>22/10/19</td>\n",
       "      <td>10:59</td>\n",
       "      <td>None</td>\n",
       "      <td>Messages to this group are now secured with en...</td>\n",
       "    </tr>\n",
       "    <tr>\n",
       "      <th>1</th>\n",
       "      <td>22/10/19</td>\n",
       "      <td>10:56</td>\n",
       "      <td>None</td>\n",
       "      <td>Annie Walia created group \"B.Tech 2CE-5,6\"</td>\n",
       "    </tr>\n",
       "    <tr>\n",
       "      <th>2</th>\n",
       "      <td>22/10/19</td>\n",
       "      <td>10:59</td>\n",
       "      <td>None</td>\n",
       "      <td>Sandhya added you</td>\n",
       "    </tr>\n",
       "    <tr>\n",
       "      <th>3</th>\n",
       "      <td>22/10/19</td>\n",
       "      <td>10:59</td>\n",
       "      <td>None</td>\n",
       "      <td>Jeevan Pu left</td>\n",
       "    </tr>\n",
       "    <tr>\n",
       "      <th>4</th>\n",
       "      <td>22/10/19</td>\n",
       "      <td>11:00</td>\n",
       "      <td>None</td>\n",
       "      <td>Raghav A5 6 added Hardeep A5, Ritesh Pu, Sajal...</td>\n",
       "    </tr>\n",
       "  </tbody>\n",
       "</table>\n",
       "</div>"
      ],
      "text/plain": [
       "       Date   Time Author                                            Message\n",
       "0  22/10/19  10:59   None  Messages to this group are now secured with en...\n",
       "1  22/10/19  10:56   None         Annie Walia created group \"B.Tech 2CE-5,6\"\n",
       "2  22/10/19  10:59   None                                  Sandhya added you\n",
       "3  22/10/19  10:59   None                                     Jeevan Pu left\n",
       "4  22/10/19  11:00   None  Raghav A5 6 added Hardeep A5, Ritesh Pu, Sajal..."
      ]
     },
     "execution_count": 39,
     "metadata": {},
     "output_type": "execute_result"
    }
   ],
   "source": [
    "df.head()"
   ]
  },
  {
   "cell_type": "code",
   "execution_count": 34,
   "metadata": {},
   "outputs": [
    {
     "data": {
      "text/html": [
       "<div>\n",
       "<style scoped>\n",
       "    .dataframe tbody tr th:only-of-type {\n",
       "        vertical-align: middle;\n",
       "    }\n",
       "\n",
       "    .dataframe tbody tr th {\n",
       "        vertical-align: top;\n",
       "    }\n",
       "\n",
       "    .dataframe thead th {\n",
       "        text-align: right;\n",
       "    }\n",
       "</style>\n",
       "<table border=\"1\" class=\"dataframe\">\n",
       "  <thead>\n",
       "    <tr style=\"text-align: right;\">\n",
       "      <th></th>\n",
       "      <th>Date</th>\n",
       "      <th>Time</th>\n",
       "      <th>Author</th>\n",
       "      <th>Message</th>\n",
       "    </tr>\n",
       "  </thead>\n",
       "  <tbody>\n",
       "    <tr>\n",
       "      <th>count</th>\n",
       "      <td>11027</td>\n",
       "      <td>11027</td>\n",
       "      <td>10411</td>\n",
       "      <td>11027</td>\n",
       "    </tr>\n",
       "    <tr>\n",
       "      <th>unique</th>\n",
       "      <td>195</td>\n",
       "      <td>1107</td>\n",
       "      <td>54</td>\n",
       "      <td>8065</td>\n",
       "    </tr>\n",
       "    <tr>\n",
       "      <th>top</th>\n",
       "      <td>28/03/20</td>\n",
       "      <td>22:03</td>\n",
       "      <td>Chiru Baby</td>\n",
       "      <td>&lt;Media omitted&gt;</td>\n",
       "    </tr>\n",
       "    <tr>\n",
       "      <th>freq</th>\n",
       "      <td>618</td>\n",
       "      <td>57</td>\n",
       "      <td>1543</td>\n",
       "      <td>603</td>\n",
       "    </tr>\n",
       "  </tbody>\n",
       "</table>\n",
       "</div>"
      ],
      "text/plain": [
       "            Date   Time      Author          Message\n",
       "count      11027  11027       10411            11027\n",
       "unique       195   1107          54             8065\n",
       "top     28/03/20  22:03  Chiru Baby  <Media omitted>\n",
       "freq         618     57        1543              603"
      ]
     },
     "execution_count": 34,
     "metadata": {},
     "output_type": "execute_result"
    }
   ],
   "source": [
    "# Data Explorarion time\n",
    "df.describe()"
   ]
  },
  {
   "cell_type": "code",
   "execution_count": 48,
   "metadata": {},
   "outputs": [
    {
     "data": {
      "text/plain": [
       "<matplotlib.axes._subplots.AxesSubplot at 0x282e5a130b8>"
      ]
     },
     "execution_count": 48,
     "metadata": {},
     "output_type": "execute_result"
    },
    {
     "data": {
      "image/png": "[encoded data removed]",
      "text/plain": [
       "<Figure size 432x288 with 1 Axes>"
      ]
     },
     "metadata": {
      "needs_background": "light"
     },
     "output_type": "display_data"
    }
   ],
   "source": [
    "# top interacting active members\n",
    "author_freqtable = df['Author'].value_counts() # Number of messages per author\n",
    "top_10_author = author_freqtable.head(10) # Number of messages per author for the top 10 most active authors\n",
    "top_10_author.plot(x ='No_of_msgs', y='Grp_Members', kind = 'bar') # Plot a bar chart using pandas built-in plotting apis"
   ]
  },
  {
   "cell_type": "code",
   "execution_count": 52,
   "metadata": {},
   "outputs": [
    {
     "data": {
      "text/plain": [
       "<matplotlib.axes._subplots.AxesSubplot at 0x282e5671ef0>"
      ]
     },
     "execution_count": 52,
     "metadata": {},
     "output_type": "execute_result"
    },
    {
     "data": {
      "image/png": "[encoded data removed]",
      "text/plain": [
       "<Figure size 432x288 with 1 Axes>"
      ]
     },
     "metadata": {
      "needs_background": "light"
     },
     "output_type": "display_data"
    }
   ],
   "source": [
    "# top interacting active members who send most of the media\n",
    "\n",
    "media_df = df[df['Message'] == '<Media omitted>']\n",
    "\n",
    "author_media_msg_counts = media_df['Author'].value_counts()\n",
    "top_10_author_media_msg_counts = author_media_msg_counts.head(10)\n",
    "top_10_author_media_msg_counts.plot(x ='No_of_msgs', y='Grp_Members', kind = 'bar')"
   ]
  },
  {
   "cell_type": "code",
   "execution_count": 37,
   "metadata": {},
   "outputs": [
    {
     "data": {
      "text/plain": [
       "Chiru Baby             1543\n",
       "Addit Pu               1308\n",
       "Angad Pubg             1284\n",
       "Sandhya                1201\n",
       "Harshit                 995\n",
       "Simar Pu                550\n",
       "+91 97797 29394         408\n",
       "Shreya Pu               327\n",
       "Annie Walia             311\n",
       "Priyanka A7             255\n",
       "Ankush Pu Leet          238\n",
       "Tarun Pu                201\n",
       "Raghav A5 6             157\n",
       "Pardeep Pu              153\n",
       "Sajal Pu                146\n",
       "Amrita Pu               125\n",
       "Praditi Pu              116\n",
       "Divya Pu                110\n",
       "Ritesh Pu                94\n",
       "Varun Pu                 86\n",
       "Raman Pu                 70\n",
       "+91 98724 68569          58\n",
       "Parteek Pu               47\n",
       "Mohit Bhadhan            41\n",
       "Ashu Pu                  40\n",
       "Jaskirat Pu              39\n",
       "Hemu                     38\n",
       "Nikhil Pathankot Pu      34\n",
       "ArshiyA                  33\n",
       "+91 88726 67806          32\n",
       "Deepti Pu                31\n",
       "Jagmeet Pu               29\n",
       "Jasneet Pu               23\n",
       "Chitvan Pu               23\n",
       "Himankur Pu              22\n",
       "Karandeep Leet           21\n",
       "Anurag Pu                21\n",
       "Naveen Jindal Pu         20\n",
       "Rachit Pu                20\n",
       "+91 81461 20872          19\n",
       "Lagan Jindal             19\n",
       "Shubhav                  18\n",
       "Arsh Leet                15\n",
       "Paviter Pu               15\n",
       "Niyati Pu                14\n",
       "Sharill Pu               14\n",
       "Abhishek A7              10\n",
       "Binwant Singh             9\n",
       "+91 99145 28534           7\n",
       "+91 78885 31147           6\n",
       "Hardeep A5                5\n",
       "Tanvi Pu                  4\n",
       "+91 97805 74120           4\n",
       "+91 90236 02802           2\n",
       "Name: Author, dtype: int64"
      ]
     },
     "execution_count": 37,
     "metadata": {},
     "output_type": "execute_result"
    }
   ],
   "source": [
    "df['Author'].value_counts()"
   ]
  },
  {
   "cell_type": "code",
   "execution_count": null,
   "metadata": {},
   "outputs": [],
   "source": []
  },
  {
   "cell_type": "code",
   "execution_count": null,
   "metadata": {},
   "outputs": [],
   "source": []
  }
 ],
 "metadata": {
  "kernelspec": {
   "display_name": "Python 3",
   "language": "python",
   "name": "python3"
  },
  "language_info": {
   "codemirror_mode": {
    "name": "ipython",
    "version": 3
   },
   "file_extension": ".py",
   "mimetype": "text/x-python",
   "name": "python",
   "nbconvert_exporter": "python",
   "pygments_lexer": "ipython3",
   "version": "3.7.3"
  }
 },
 "nbformat": 4,
 "nbformat_minor": 4
}
